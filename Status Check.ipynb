{
 "cells": [
  {
   "cell_type": "code",
   "execution_count": null,
   "id": "644f38a4",
   "metadata": {},
   "outputs": [],
   "source": [
    "import socket\n",
    "import logging\n",
    "import ssl\n",
    "import re\n",
    "import time\n",
    "import threading\n",
    "\n",
    "from tqdm import tqdm \n",
    "\n",
    "import dns.message\n",
    "import dns.query\n",
    "import dns.exception\n",
    "import dns.rcode\n",
    "import dns.name\n",
    "import pandas as pd\n",
    "\n",
    "logging.basicConfig(level=logging.WARNING)"
   ]
  },
  {
   "cell_type": "code",
   "execution_count": null,
   "id": "d395152f",
   "metadata": {},
   "outputs": [],
   "source": [
    "ssl_context = ssl.create_default_context()\n",
    "ssl_context.check_hostname = False\n",
    "ssl_context.verify_mode = ssl.CERT_NONE"
   ]
  },
  {
   "cell_type": "code",
   "execution_count": null,
   "id": "bd0dd5e7",
   "metadata": {},
   "outputs": [],
   "source": [
    "NS = [m[0] for m in re.finditer(r'[^\\s\\\"]+\\.[ac]\\.desec\\.io', \"\\n\".join(list(open('hosts/all.yml', 'r'))))] + ['ns1.desec.io', 'ns2.desec.org']"
   ]
  },
  {
   "cell_type": "code",
   "execution_count": null,
   "id": "a7183395",
   "metadata": {},
   "outputs": [],
   "source": [
    "NS_NET = {\n",
    "    'ams-1.a.desec.io': 'a1',\n",
    "    'dfw-1.a.desec.io': 'a1',\n",
    "    'fra-1.a.desec.io': 'a2',\n",
    "    'hkg-1.a.desec.io': 'a2',\n",
    "    'jnb-1.a.desec.io': 'a2',\n",
    "    'sao-1.a.desec.io': 'a1',\n",
    "    'syd-1.a.desec.io': 'a2',\n",
    "    'dxb-1.c.desec.io': 'c1',\n",
    "    'fra-1.c.desec.io': 'c1',\n",
    "    'lax-1.c.desec.io': 'c1',\n",
    "    'lga-1.c.desec.io': 'c2',\n",
    "    'lhr-1.c.desec.io': 'c2',\n",
    "    'scl-1.c.desec.io': 'c2',\n",
    "    'sin-1.c.desec.io': 'c1',\n",
    "    'tyo-1.c.desec.io': 'c2',\n",
    "    'ns1.desec.io': 'ns1',\n",
    "    'ns2.desec.org': 'ns2',\n",
    "}"
   ]
  },
  {
   "cell_type": "code",
   "execution_count": null,
   "id": "6bd5cf8c",
   "metadata": {},
   "outputs": [],
   "source": [
    "assert set(NS) == set(NS_NET.keys())"
   ]
  },
  {
   "cell_type": "code",
   "execution_count": null,
   "id": "ffdbc0df",
   "metadata": {},
   "outputs": [],
   "source": [
    "def run():\n",
    "    for ns in tqdm(NS):\n",
    "        for qname in ['external-timestamp.desec.test']:\n",
    "            for qtype in ['TXT']:\n",
    "                for addr in {sockaddr[0] for (_, _, _, _, sockaddr) in socket.getaddrinfo(ns, 53)}:\n",
    "                    if ('.a.' in ns or '.c.' in ns) and ':' in addr:\n",
    "                        logging.debug(f\"Skipping v6 addr for {ns} ({addr})\")\n",
    "                        continue\n",
    "                    for query in [dns.query.udp, dns.query.tcp, dns.query.tls, dns.query.quic]:\n",
    "                        logging.debug(f\"Query {qname}/{qtype} at {ns}/{addr} using {query.__name__}\")\n",
    "                        q = dns.message.make_query(qname, qtype)\n",
    "                        match query:\n",
    "                            case dns.query.quic:\n",
    "                                kwargs = dict(verify=False, timeout=3)\n",
    "                            case dns.query.tls:\n",
    "                                kwargs = dict(ssl_context=ssl_context, timeout=3)\n",
    "                            case _:\n",
    "                                kwargs = dict(timeout=1)\n",
    "                                \n",
    "                        # TODO replace this madness with a regular try/except block \n",
    "                        # once dns.query.quic properly throws exceptions \n",
    "                        # if no server is present\n",
    "                        responses = []\n",
    "                        def do_query():\n",
    "                            responses.append(query(q, where=addr, **kwargs))\n",
    "                        t = threading.Thread(target=do_query)\n",
    "                        t.start()\n",
    "                        t.join(timeout=3)\n",
    "\n",
    "                        yield {\n",
    "                            'query': q,\n",
    "                            'response': responses[0] if responses else None,\n",
    "                            'ns': ns,\n",
    "                            'addr': addr,\n",
    "                            'transport': query.__name__,\n",
    "                            'timestamp': int(time.time()),\n",
    "                        }\n",
    "\n",
    "raw_data = list(run())"
   ]
  },
  {
   "cell_type": "code",
   "execution_count": null,
   "id": "39e1ecde",
   "metadata": {},
   "outputs": [],
   "source": [
    "data = pd.DataFrame(raw_data)\n",
    "data['qname'] = data['query'].apply(lambda q: q.question[0].name.to_text())\n",
    "data['qtype'] = data['query'].apply(lambda q: q.question[0].rdtype)\n",
    "data['ip'] = data['addr'].apply(lambda addr: 4 if '.' in addr else 6)\n",
    "data['rcode'] = data['response'].apply(lambda r: dns.rcode.to_text(r.rcode()) if r else None)\n",
    "data['response_data'] = data['response'].apply(lambda r: int(r.answer[0][0].to_text().strip(\"\\\"\")) if r else None)\n",
    "data['ns_net'] = data['ns'].apply(lambda ns: NS_NET[ns])\n",
    "data['lag'] = data['response_data'] - data['timestamp']"
   ]
  },
  {
   "cell_type": "code",
   "execution_count": null,
   "id": "28f394d6",
   "metadata": {},
   "outputs": [],
   "source": [
    "data.sample(4)"
   ]
  },
  {
   "cell_type": "code",
   "execution_count": null,
   "id": "56805664",
   "metadata": {},
   "outputs": [],
   "source": [
    "def highlight_rcode(v):\n",
    "    if v == 'None':\n",
    "        color = 'grey'\n",
    "    elif v == 'NOERROR':\n",
    "        color = 'green'\n",
    "    else:\n",
    "        color = 'yellow'\n",
    "        \n",
    "    return f'background-color: {color}'\n",
    "\n",
    "data.sort_values(['ns_net', 'ns']).pivot(index=('ns_net', 'ns', 'addr'), columns='transport', values='rcode').style.applymap(highlight_rcode)"
   ]
  },
  {
   "cell_type": "code",
   "execution_count": null,
   "id": "9fcef57a",
   "metadata": {},
   "outputs": [],
   "source": [
    "def highlight_timestamp(v):\n",
    "    if pd.isna(v):\n",
    "        color = 'grey'\n",
    "    elif v < -600:\n",
    "        color = 'red'\n",
    "    elif v < -300:\n",
    "        color = 'yellow'\n",
    "    else:\n",
    "        color = 'green'\n",
    "        \n",
    "    return f'background-color: {color}'\n",
    "    \n",
    "freshness = data.sort_values(['ns_net', 'ns']).pivot(index=('ns_net', 'ns', 'addr'), columns='transport', values='lag')\n",
    "freshness.style.applymap(highlight_timestamp).format(lambda v: \"---\" if pd.isna(v) else f\"{v:.0f}s\")"
   ]
  },
  {
   "cell_type": "code",
   "execution_count": null,
   "id": "2201d553",
   "metadata": {},
   "outputs": [],
   "source": []
  }
 ],
 "metadata": {
  "kernelspec": {
   "display_name": "Python 3",
   "language": "python",
   "name": "python3"
  },
  "language_info": {
   "codemirror_mode": {
    "name": "ipython",
    "version": 3
   },
   "file_extension": ".py",
   "mimetype": "text/x-python",
   "name": "python",
   "nbconvert_exporter": "python",
   "pygments_lexer": "ipython3",
   "version": "3.10.6"
  }
 },
 "nbformat": 4,
 "nbformat_minor": 5
}
