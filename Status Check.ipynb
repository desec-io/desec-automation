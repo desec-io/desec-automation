{
 "cells": [
  {
   "cell_type": "code",
   "execution_count": null,
   "id": "644f38a4",
   "metadata": {},
   "outputs": [],
   "source": [
    "import desec\n",
    "import pandas as pd"
   ]
  },
  {
   "cell_type": "code",
   "execution_count": null,
   "id": "c21c4f58-031a-452d-8acc-b14398285091",
   "metadata": {},
   "outputs": [],
   "source": [
    "data = desec.replication_status()"
   ]
  },
  {
   "cell_type": "code",
   "execution_count": null,
   "id": "56805664",
   "metadata": {},
   "outputs": [],
   "source": [
    "def highlight_rcode(v):\n",
    "    if v == 'None':\n",
    "        color = 'grey'\n",
    "    elif v == 'NOERROR':\n",
    "        color = 'green'\n",
    "    else:\n",
    "        color = 'yellow'\n",
    "        \n",
    "    return f'background-color: {color}'\n",
    "\n",
    "desec.replication_rcodes(data).style.applymap(highlight_rcode)"
   ]
  },
  {
   "cell_type": "code",
   "execution_count": null,
   "id": "9fcef57a",
   "metadata": {},
   "outputs": [],
   "source": [
    "def highlight_timestamp(v):\n",
    "    if pd.isna(v):\n",
    "        color = 'grey'\n",
    "    elif v < -600:\n",
    "        color = 'red'\n",
    "    elif v < -300:\n",
    "        color = 'yellow'\n",
    "    else:\n",
    "        color = 'green'\n",
    "        \n",
    "    return f'background-color: {color}'\n",
    "    \n",
    "desec.replication_lag(data).style.applymap(highlight_timestamp).format(lambda v: \"---\" if pd.isna(v) else f\"{v:.0f}s\")"
   ]
  },
  {
   "cell_type": "code",
   "execution_count": null,
   "id": "ce593100-d5d4-4ec7-8866-ec4338b55b07",
   "metadata": {},
   "outputs": [],
   "source": []
  }
 ],
 "metadata": {
  "kernelspec": {
   "display_name": "Python 3",
   "language": "python",
   "name": "python3"
  },
  "language_info": {
   "codemirror_mode": {
    "name": "ipython",
    "version": 3
   },
   "file_extension": ".py",
   "mimetype": "text/x-python",
   "name": "python",
   "nbconvert_exporter": "python",
   "pygments_lexer": "ipython3",
   "version": "3.10.12"
  }
 },
 "nbformat": 4,
 "nbformat_minor": 5
}
